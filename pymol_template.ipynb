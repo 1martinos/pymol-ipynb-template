{
 "cells": [
  {
   "cell_type": "code",
   "execution_count": null,
   "id": "widespread-yahoo",
   "metadata": {},
   "outputs": [],
   "source": [
    "import socket\n",
    "import os\n",
    "import xmlrpc.client as xmlrpclib\n",
    "import pickle\n",
    "import numpy as np\n",
    "from matplotlib import pyplot as plt\n",
    "from pprint import pprint as pp\n",
    "HOST = 'localhost'  # Standard loopback interface address (localhost)\n",
    "PORT = 9123        # Port to listen on (non-privileged ports are > 1023)\n",
    "srv = xmlrpclib.ServerProxy('http://localhost:9123')"
   ]
  }
 ],
 "metadata": {
  "kernelspec": {
   "display_name": "Python 3",
   "language": "python",
   "name": "python3"
  },
  "language_info": {
   "codemirror_mode": {
    "name": "ipython",
    "version": 3
   },
   "file_extension": ".py",
   "mimetype": "text/x-python",
   "name": "python",
   "nbconvert_exporter": "python",
   "pygments_lexer": "ipython3",
   "version": "3.6.9"
  }
 },
 "nbformat": 4,
 "nbformat_minor": 5
}
